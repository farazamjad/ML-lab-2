{
 "cells": [
  {
   "cell_type": "code",
   "execution_count": 58,
   "id": "aa19129e",
   "metadata": {},
   "outputs": [
    {
     "name": "stdout",
     "output_type": "stream",
     "text": [
      "The university name is Fast Nuces and location is Isb\n"
     ]
    }
   ],
   "source": [
    "class University:\n",
    "    def __init__(self,name,location):\n",
    "        self.name=name\n",
    "        self.location=location\n",
    "    def display(self):\n",
    "        print(f\"The university name is {self.name} and location is {self.location}\")\n",
    "obj1=University(\"Fast Nuces\",\"Isb\") \n",
    "obj1.display()\n"
   ]
  },
  {
   "cell_type": "code",
   "execution_count": 60,
   "id": "9fa85f88",
   "metadata": {},
   "outputs": [
    {
     "name": "stdout",
     "output_type": "stream",
     "text": [
      "The university name is Fast Nuces and location is Isb\n",
      "The dept name is Cs and program is bs in Ai\n"
     ]
    }
   ],
   "source": [
    "class Department(University):\n",
    "    def __init__(self, name, program,u_name,u_loc):\n",
    "        super().__init__(name, program)\n",
    "        self.name=name\n",
    "        self.program=program\n",
    "\n",
    "    def display(self):\n",
    "        obj1.display()\n",
    "        print(f\"The dept name is {self.name} and program is {self.program}\")\n",
    "obj2=Department('Cs',\"bs in Ai\",'fast','isb')        \n",
    "obj2.display()"
   ]
  },
  {
   "cell_type": "code",
   "execution_count": 66,
   "id": "5f8c716f",
   "metadata": {},
   "outputs": [
    {
     "name": "stdout",
     "output_type": "stream",
     "text": [
      "(0, 'fast')\n",
      "(1, 'nust')\n",
      "(2, 'lums')\n",
      "(3, 'iba')\n",
      "100 fast\n",
      "101 nust\n",
      "102 lums\n",
      "103 iba\n"
     ]
    }
   ],
   "source": [
    "#using enumerate example\n",
    "mylist = [\"fast\", \"nust\", \"lums\",\"iba\"]\n",
    "for uni in enumerate(mylist):\n",
    "    print (uni)\n",
    "for count, uni in enumerate(mylist, 100):\n",
    "    print (count, uni)"
   ]
  },
  {
   "cell_type": "code",
   "execution_count": 36,
   "id": "13f3ccba",
   "metadata": {},
   "outputs": [
    {
     "data": {
      "text/plain": [
       "2"
      ]
     },
     "execution_count": 36,
     "metadata": {},
     "output_type": "execute_result"
    }
   ],
   "source": [
    "'''\n",
    "Given a list of strings, return the count of the number of strings\n",
    "where the string length is 2 or more and the first and last chars of the\n",
    "string are the same.\n",
    "'''\n",
    "def StringCount(myStr):\n",
    "    count=0\n",
    "    for i in lst:\n",
    "        first=i[0]\n",
    "        last=i[-1]\n",
    "        if len(i)>=2 and first==last:\n",
    "            count+=1\n",
    "    return count\n",
    "lst=[\"aa\",\"abv\",\"sds\"]\n",
    "StringCount(lst)"
   ]
  },
  {
   "cell_type": "code",
   "execution_count": 28,
   "id": "77a2169f",
   "metadata": {},
   "outputs": [
    {
     "data": {
      "text/plain": [
       "['xay', 'xmax', 'xs', 'ai', 'cs', 'ds', 'zzz']"
      ]
     },
     "execution_count": 28,
     "metadata": {},
     "output_type": "execute_result"
    }
   ],
   "source": [
    "'''\n",
    "Given a list of strings, return a list with the strings in sorted order,\n",
    "except group all the strings that begin with 'x' first.\n",
    "'''\n",
    "def FirstXsort(myList):\n",
    "    xlist=[]\n",
    "    myList.sort()\n",
    "    for i in myList:\n",
    "        if i[0]=='x':\n",
    "            xlist.append(i)\n",
    "        \n",
    "    for i in myList:\n",
    "        if i not in xlist:\n",
    "            xlist.append(i)\n",
    "    return xlist\n",
    "lst=['ds','xmax','zzz','xay','xs','ai','cs']\n",
    "FirstXsort(lst)\n"
   ]
  },
  {
   "cell_type": "code",
   "execution_count": 44,
   "id": "1cc6b012",
   "metadata": {},
   "outputs": [
    {
     "data": {
      "text/plain": [
       "[(2, 1), (1, 2), (2, 3), (4, 4), (2, 5)]"
      ]
     },
     "execution_count": 44,
     "metadata": {},
     "output_type": "execute_result"
    }
   ],
   "source": [
    "\"\"\"\n",
    "Given a list of non-empty tuples, return a list sorted in increasing\n",
    "order by the last element in each tuple.\n",
    "\"\"\"\n",
    "def lastKey(n):\n",
    "    return n[-1]\n",
    "def mysort(tupList):\n",
    "    return sorted(tupList,key=lastKey)\n",
    "tupL=[(2, 5), (1, 2), (4, 4), (2, 3), (2, 1)]\n",
    "mysort(tupL)"
   ]
  },
  {
   "cell_type": "code",
   "execution_count": 30,
   "id": "ad42343b",
   "metadata": {},
   "outputs": [
    {
     "data": {
      "text/plain": [
       "[1, 2, 3, 2]"
      ]
     },
     "execution_count": 30,
     "metadata": {},
     "output_type": "execute_result"
    }
   ],
   "source": [
    " '''\n",
    "Given a list of numbers, return a list where all adjacent == elements\n",
    "have been reduced to a single element, so [1, 2, 2, 3] returns [1, 2, 3].\n",
    "'''\n",
    "\n",
    "def remAdj(mylist):\n",
    "    size=len(mylist)\n",
    "    newlist=[mylist[0]]\n",
    "    for i in range(size-1):\n",
    "        if(mylist[i]!=mylist[i+1] ):\n",
    "            newlist.append(mylist[i+1])\n",
    "    return(newlist)\n",
    "mylist=[1,2,2,3]\n",
    "remAdj(mylist)\n"
   ]
  },
  {
   "cell_type": "code",
   "execution_count": 45,
   "id": "40169096",
   "metadata": {},
   "outputs": [
    {
     "data": {
      "text/plain": [
       "[1, 2, 3, 4, 5, 6, 7, 8, 9, 10]"
      ]
     },
     "execution_count": 45,
     "metadata": {},
     "output_type": "execute_result"
    }
   ],
   "source": [
    "'''\n",
    "two lists sorted in increasing order, create and return a merged list of\n",
    "all the elements in sorted order\n",
    "'''\n",
    "def mergedList(list1,list2):\n",
    "    x=list1+list2\n",
    "    x.sort()\n",
    "    return x\n",
    "l1=[4,6,7,8,2]\n",
    "l2=[5,3,1,10,9]\n",
    "mergedList(l1,l2)    \n",
    "    "
   ]
  },
  {
   "cell_type": "code",
   "execution_count": 3,
   "id": "d4910968",
   "metadata": {},
   "outputs": [],
   "source": [
    "import pandas as pd"
   ]
  },
  {
   "cell_type": "code",
   "execution_count": 4,
   "id": "76564df7",
   "metadata": {},
   "outputs": [
    {
     "name": "stdout",
     "output_type": "stream",
     "text": [
      "         country  beer_servings  spirit_servings  wine_servings  \\\n",
      "0    Afghanistan              0                0              0   \n",
      "1        Albania             89              132             54   \n",
      "2        Algeria             25                0             14   \n",
      "3        Andorra            245              138            312   \n",
      "4         Angola            217               57             45   \n",
      "..           ...            ...              ...            ...   \n",
      "188    Venezuela            333              100              3   \n",
      "189      Vietnam            111                2              1   \n",
      "190        Yemen              6                0              0   \n",
      "191       Zambia             32               19              4   \n",
      "192     Zimbabwe             64               18              4   \n",
      "\n",
      "     total_litres_of_pure_alcohol continent  \n",
      "0                             0.0        AS  \n",
      "1                             4.9        EU  \n",
      "2                             0.7        AF  \n",
      "3                            12.4        EU  \n",
      "4                             5.9        AF  \n",
      "..                            ...       ...  \n",
      "188                           7.7        SA  \n",
      "189                           2.0        AS  \n",
      "190                           0.1        AS  \n",
      "191                           2.5        AF  \n",
      "192                           4.7        AF  \n",
      "\n",
      "[193 rows x 6 columns]\n"
     ]
    }
   ],
   "source": [
    "df=pd.read_csv(\"drinks.csv\")\n",
    "print(df)"
   ]
  },
  {
   "cell_type": "code",
   "execution_count": 5,
   "id": "f4b48161",
   "metadata": {},
   "outputs": [
    {
     "name": "stdout",
     "output_type": "stream",
     "text": [
      "Total rows in dataset = 193\n"
     ]
    }
   ],
   "source": [
    "#Find the rows in the dataset\n",
    "rows=len(df)\n",
    "print(f\"Total rows in dataset = {rows}\")"
   ]
  },
  {
   "cell_type": "code",
   "execution_count": 6,
   "id": "d3b73f3e",
   "metadata": {},
   "outputs": [
    {
     "name": "stdout",
     "output_type": "stream",
     "text": [
      "column name: country\n"
     ]
    },
    {
     "data": {
      "text/plain": [
       "0      Afghanistan\n",
       "1          Albania\n",
       "2          Algeria\n",
       "3          Andorra\n",
       "4           Angola\n",
       "          ...     \n",
       "188      Venezuela\n",
       "189        Vietnam\n",
       "190          Yemen\n",
       "191         Zambia\n",
       "192       Zimbabwe\n",
       "Name: country, Length: 193, dtype: object"
      ]
     },
     "execution_count": 6,
     "metadata": {},
     "output_type": "execute_result"
    }
   ],
   "source": [
    "#A function that takes name of the coloumn and outputs the data in the column\n",
    "def colData(colname):\n",
    "    return df[colName] \n",
    "\n",
    "colName=input(\"column name: \")\n",
    "colData(colName)\n"
   ]
  },
  {
   "cell_type": "code",
   "execution_count": 7,
   "id": "0161f49e",
   "metadata": {},
   "outputs": [
    {
     "name": "stdout",
     "output_type": "stream",
     "text": [
      "Total rows in dataset = 170\n"
     ]
    }
   ],
   "source": [
    "#Drop na values\n",
    "df.dropna(inplace=True)\n",
    "rows=len(df)\n",
    "print(f\"Total rows in dataset = {rows}\")"
   ]
  },
  {
   "cell_type": "code",
   "execution_count": 12,
   "id": "4530c3b3",
   "metadata": {},
   "outputs": [
    {
     "data": {
      "text/plain": [
       "Text(0.5, 0, 'beer_servings')"
      ]
     },
     "execution_count": 12,
     "metadata": {},
     "output_type": "execute_result"
    },
    {
     "data": {
      "image/png": "[encoded data removed]",
      "text/plain": [
       "<Figure size 432x288 with 1 Axes>"
      ]
     },
     "metadata": {
      "needs_background": "light"
     },
     "output_type": "display_data"
    }
   ],
   "source": [
    "# Plot histograms of data\n",
    "import matplotlib.pyplot as plt\n",
    "df['beer_servings'].plot(kind='hist')\n",
    "plt.ylabel('Frequency')\n",
    "plt.xlabel('beer_servings')\n"
   ]
  },
  {
   "cell_type": "code",
   "execution_count": 13,
   "id": "127af082",
   "metadata": {},
   "outputs": [
    {
     "data": {
      "image/png": "[encoded data removed]",
      "text/plain": [
       "<Figure size 432x288 with 1 Axes>"
      ]
     },
     "metadata": {
      "needs_background": "light"
     },
     "output_type": "display_data"
    },
    {
     "data": {
      "image/png": "[encoded data removed]",
      "text/plain": [
       "<Figure size 432x288 with 1 Axes>"
      ]
     },
     "metadata": {
      "needs_background": "light"
     },
     "output_type": "display_data"
    }
   ],
   "source": [
    "# Plot a scatter plot in 2d and 3d\n",
    "plt.scatter(df[\"continent\"], df[\"beer_servings\"])\n",
    "plt.xlabel('continents')\n",
    "plt.ylabel('beer_servings')\n",
    "plt.show()\n",
    "#3d\n",
    "fig = plt.figure()\n",
    "ax = fig.add_subplot(projection='3d')\n",
    "ax.scatter(df[\"spirit_servings\"], df[\"beer_servings\"], df[\"wine_servings\"])\n",
    "ax.set_xlabel('spirit_servings')\n",
    "ax.set_ylabel('beer_servings')\n",
    "ax.set_zlabel('wine_servings')\n",
    "\n",
    "plt.show()"
   ]
  },
  {
   "cell_type": "code",
   "execution_count": 23,
   "id": "d96f2685",
   "metadata": {},
   "outputs": [
    {
     "data": {
      "text/plain": [
       "Text(0, 0.5, 'beer')"
      ]
     },
     "execution_count": 23,
     "metadata": {},
     "output_type": "execute_result"
    },
    {
     "data": {
      "image/png": "[encoded data removed]",
      "text/plain": [
       "<Figure size 432x288 with 1 Axes>"
      ]
     },
     "metadata": {
      "needs_background": "light"
     },
     "output_type": "display_data"
    }
   ],
   "source": [
    "# Plot a pie and a bar chart\n",
    "drink = df.groupby('continent')['beer_servings'].mean()\n",
    "plt.figure();\n",
    "drink.plot.bar(title='Fig.No.1 : BAR CHART (Mean continent – Beer)', color='darkred'); plt.xlabel('continent'); plt.ylabel('beer')  \n",
    "\n"
   ]
  },
  {
   "cell_type": "code",
   "execution_count": 26,
   "id": "9910f32c",
   "metadata": {},
   "outputs": [
    {
     "data": {
      "text/plain": [
       "<AxesSubplot:title={'center':'Fig.No. 2 : PIE CHART'}, ylabel='beer acc to continent'>"
      ]
     },
     "execution_count": 26,
     "metadata": {},
     "output_type": "execute_result"
    },
    {
     "data": {
      "image/png": "[encoded data removed]",
      "text/plain": [
       "<Figure size 432x288 with 1 Axes>"
      ]
     },
     "metadata": {},
     "output_type": "display_data"
    }
   ],
   "source": [
    "drink = df.groupby('continent')['beer_servings'].sum()\n",
    "drink=drink.div(drink.sum().astype(float)).round(2)*100\n",
    "drink.plot.pie(label=('beer acc to continent'), title = \"Fig.No. 2 : PIE CHART\",colormap='brg', autopct='%1.0f%%') "
   ]
  },
  {
   "cell_type": "code",
   "execution_count": null,
   "id": "96ed87b0",
   "metadata": {},
   "outputs": [],
   "source": []
  }
 ],
 "metadata": {
  "kernelspec": {
   "display_name": "Python 3",
   "language": "python",
   "name": "python3"
  },
  "language_info": {
   "codemirror_mode": {
    "name": "ipython",
    "version": 3
   },
   "file_extension": ".py",
   "mimetype": "text/x-python",
   "name": "python",
   "nbconvert_exporter": "python",
   "pygments_lexer": "ipython3",
   "version": "3.8.5"
  }
 },
 "nbformat": 4,
 "nbformat_minor": 5
}
